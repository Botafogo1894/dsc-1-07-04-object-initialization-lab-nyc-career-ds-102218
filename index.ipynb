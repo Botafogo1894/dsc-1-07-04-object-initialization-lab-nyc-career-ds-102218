{
 "cells": [
  {
   "cell_type": "markdown",
   "metadata": {},
   "source": [
    "# Object Initialization - Lab"
   ]
  },
  {
   "cell_type": "markdown",
   "metadata": {},
   "source": [
    "## Introduction\n",
    "In this lab, we will practice defining classes with custom `__init__` methods. We will define two classes, Driver in the cells below. Follow the instructions in order to get the tests to pass."
   ]
  },
  {
   "cell_type": "markdown",
   "metadata": {},
   "source": [
    "## Objectives\n",
    "\n",
    "You will be able to:\n",
    "\n",
    "* Define custom `__init__` methods for object initialization\n",
    "* Create instance variables in the `__init__` method \n",
    "* Use default arguments in the `__init__` method"
   ]
  },
  {
   "cell_type": "markdown",
   "metadata": {},
   "source": [
    "## Initializing Instance Objects"
   ]
  },
  {
   "cell_type": "markdown",
   "metadata": {},
   "source": [
    "Let's start off by defining Driver and Passenger classes. In the Passenger class, we will want our passengers to have the attributes `first`, `last`, `email`, and `rides_taken` for their first name, last name, email, and number of rides they have taken. Let's provide our `__init__` method with the default argument of `0` for the `rides_taken` attribute since new passengers should not have taken any rides. \n",
    "\n",
    "After we've defined our Passenger `__init__` method, check it out by initializing a new passenger with the first name `\"Rebecca\"`, the last name `\"Black\"`, and the email `\"rebecca.black@gmail.com\"`. Don't worry about creating instance methods or using any attribute decorators in this lesson. We can just instantiate instance variables and use those to access the instance's attributes."
   ]
  },
  {
   "cell_type": "code",
   "execution_count": 4,
   "metadata": {},
   "outputs": [],
   "source": [
    "#1. SAME FOR PASSENGER:\n",
    "\n",
    "class Passenger:\n",
    "\n",
    "#init method\n",
    "    def __init__(self, first = None, last = None, email = None, rides_taken = None):\n",
    "        self.first = first\n",
    "        self.last = last\n",
    "        self.email = email\n",
    "        self.rides_taken = rides_taken\n",
    "\n",
    "# #setters and getters for First\n",
    "\n",
    "#     def get_first(self):\n",
    "#         print(\"GETTING FIRST NAME\")\n",
    "#         return self._first\n",
    "\n",
    "#     def set_first(self, first):\n",
    "#         print(\"SETTING FIRST NAME\")\n",
    "#         self._first = first\n",
    "\n",
    "#     first = property(get_first, set_first)\n",
    "\n",
    "# #setters and getters for Last\n",
    "#     def get_last(self):\n",
    "#         print(\"GETTING LAST NAME\")\n",
    "#         return self._last\n",
    "\n",
    "#     def set_last(self, last):\n",
    "#         print(\"SETTING LAST NAME\")\n",
    "#         self._first = last\n",
    "\n",
    "#     last = property(get_last, set_last)\n",
    "# #setters and getters for email\n",
    "\n",
    "#     def get_email(self):\n",
    "#         print(\"GETTING MILES\")\n",
    "#         return self._email\n",
    "\n",
    "#     def set_email(self, email):\n",
    "#         print(\"SETTING EMAIL\")\n",
    "#         self._email = email\n",
    "\n",
    "#     email = property(get_email, set_email)\n",
    "\n",
    "# #define Yell name\n",
    "\n",
    "#     def yell_name(self):\n",
    "#             return f\"{self.first.upper()} {self.last.upper()}!\"\n",
    "# lass Driver:\n",
    "\n",
    "# #init method\n",
    "#     def __init__(self, first, last, miles_driven, rating):\n",
    "#         self._first = first\n",
    "#         self._last = last\n",
    "#         self._miles_driven = miles_driven\n",
    "#         self._rating = rating\n",
    "\n",
    "# #setters and getters for First\n",
    "\n",
    "#     def get_first(self):\n",
    "#         print(\"GETTING FIRST NAME\")\n",
    "#         return self._first\n",
    "\n",
    "#     def set_first(self, first):\n",
    "#         print(\"SETTING FIRST NAME\")\n",
    "#         self._first = first\n",
    "\n",
    "#     first = property(get_first, set_first)\n",
    "\n",
    "# #setters and getters for Last\n",
    "#     def get_last(self):\n",
    "#         print(\"GETTING LAST NAME\")\n",
    "#         return self._last\n",
    "\n",
    "#     def set_last(self, last):\n",
    "#         print(\"SETTING LAST NAME\")\n",
    "#         self._first = last\n",
    "\n",
    "#     last = property(get_last, set_last)\n",
    "# #setters and getters for miles driven\n",
    "\n",
    "#     def get_miles_driven(self):\n",
    "#         print(\"GETTING MILES\")\n",
    "#         return self._miles_driven\n",
    "\n",
    "#     def set_miles_driven(self, miles_driven):\n",
    "#         print(\"SETTING MILES\")\n",
    "#         self.__miles_driven = miles_driven\n",
    "\n",
    "#     miles_driven = property(get_miles_driven, set_miles_driven)\n",
    "\n",
    "# #setters and getters fro rating\n",
    "\n",
    "#     def get_rating(self):\n",
    "#         print(\"GETTING RATING\")\n",
    "#         return self._rating\n",
    "\n",
    "#     def set_rating(self, rating):\n",
    "#         print(\"SETTING RATING\")\n",
    "#         self._rating = rating\n",
    "\n",
    "#     rating = property(get_rating, set_rating)\n",
    "\n",
    "#     def greet_passenger(self):\n",
    "#         return \"Hello! I'll be your driver today. My name is \" + self.first + \" \" + self.last\n",
    "\n",
    "\n"
   ]
  },
  {
   "cell_type": "code",
   "execution_count": 5,
   "metadata": {},
   "outputs": [
    {
     "name": "stdout",
     "output_type": "stream",
     "text": [
      "Rebecca\n",
      "Black\n",
      "rebecca.black@gmail.com\n",
      "0\n"
     ]
    }
   ],
   "source": [
    "rebecca_black = Passenger(\"Rebecca\", \"Black\", \"rebecca.black@gmail.com\", 0 )\n",
    "print(rebecca_black.first) # \"Rebecca\"\n",
    "print(rebecca_black.last) # \"Black\"\n",
    "print(rebecca_black.email) # \"rebecca.black@gmail.com\"\n",
    "print(rebecca_black.rides_taken) # 0"
   ]
  },
  {
   "cell_type": "markdown",
   "metadata": {},
   "source": [
    "![rebecca black in a car](https://media.giphy.com/media/8SS0MSoBHa8la/giphy.gif)"
   ]
  },
  {
   "cell_type": "markdown",
   "metadata": {},
   "source": [
    "Great work! Rebecca Black is now in the system and ready to request her ride to the party on Friday! Friday! Friday!"
   ]
  },
  {
   "cell_type": "markdown",
   "metadata": {},
   "source": [
    "In the Driver class, define an `__init__` method that initializes a driver with the attributes `first`, `last`, and `favorite_hobby` for their first name, last name, and favorite hobby. Let's provide a default argument of `\"driving\"` for `favorite_hobby`, since we would hope they are ***doing what they love***! \n",
    "\n",
    "After we have our Driver `__init__` method, let's initialize a driver with the first name `\"Dale\"`, last name `\"Earnhardt\"`. Again, don't worry about creating any instance methods or using any property decorators."
   ]
  },
  {
   "cell_type": "code",
   "execution_count": 6,
   "metadata": {},
   "outputs": [],
   "source": [
    "class Driver:\n",
    "\n",
    "#init method\n",
    "    def __init__(self, first, last, favorite_hobby = \"driving\"):\n",
    "        self.first = first\n",
    "        self.last = last\n",
    "        self.favorite_hobby = favorite_hobby    "
   ]
  },
  {
   "cell_type": "code",
   "execution_count": 7,
   "metadata": {
    "scrolled": true
   },
   "outputs": [
    {
     "ename": "AttributeError",
     "evalue": "'NoneType' object has no attribute 'first'",
     "output_type": "error",
     "traceback": [
      "\u001b[0;31m\u001b[0m",
      "\u001b[0;31mAttributeError\u001b[0mTraceback (most recent call last)",
      "\u001b[0;32m<ipython-input-7-c3c30f079dab>\u001b[0m in \u001b[0;36m<module>\u001b[0;34m()\u001b[0m\n\u001b[1;32m      1\u001b[0m \u001b[0mdale_earnhardt\u001b[0m \u001b[0;34m=\u001b[0m \u001b[0;32mNone\u001b[0m \u001b[0;31m# initialize Dale Earnhardt here\u001b[0m\u001b[0;34m\u001b[0m\u001b[0m\n\u001b[0;32m----> 2\u001b[0;31m \u001b[0mprint\u001b[0m\u001b[0;34m(\u001b[0m\u001b[0mdale_earnhardt\u001b[0m\u001b[0;34m.\u001b[0m\u001b[0mfirst\u001b[0m\u001b[0;34m)\u001b[0m \u001b[0;31m# \"Dale\"\u001b[0m\u001b[0;34m\u001b[0m\u001b[0m\n\u001b[0m\u001b[1;32m      3\u001b[0m \u001b[0mprint\u001b[0m\u001b[0;34m(\u001b[0m\u001b[0mdale_earnhardt\u001b[0m\u001b[0;34m.\u001b[0m\u001b[0mlast\u001b[0m\u001b[0;34m)\u001b[0m \u001b[0;31m# \"Earnhardt\"\u001b[0m\u001b[0;34m\u001b[0m\u001b[0m\n\u001b[1;32m      4\u001b[0m \u001b[0mprint\u001b[0m\u001b[0;34m(\u001b[0m\u001b[0mdale_earnhardt\u001b[0m\u001b[0;34m.\u001b[0m\u001b[0mfavorite_hobby\u001b[0m\u001b[0;34m)\u001b[0m \u001b[0;31m# \"driving\"\u001b[0m\u001b[0;34m\u001b[0m\u001b[0m\n",
      "\u001b[0;31mAttributeError\u001b[0m: 'NoneType' object has no attribute 'first'"
     ]
    }
   ],
   "source": [
    "dale_earnhardt = None # initialize Dale Earnhardt here\n",
    "print(dale_earnhardt.first) # \"Dale\"\n",
    "print(dale_earnhardt.last) # \"Earnhardt\"\n",
    "print(dale_earnhardt.favorite_hobby) # \"driving\""
   ]
  },
  {
   "cell_type": "markdown",
   "metadata": {},
   "source": [
    "![DaleEarnhardt](https://media.giphy.com/media/3ohzdSGBkwbvuPdO3S/giphy.gif)"
   ]
  },
  {
   "cell_type": "markdown",
   "metadata": {},
   "source": [
    "Awesome, maybe Dale will be Rebecca's driver to the party on Friday! Friday! Friday! "
   ]
  },
  {
   "cell_type": "markdown",
   "metadata": {},
   "source": [
    "## Summary\n"
   ]
  },
  {
   "cell_type": "markdown",
   "metadata": {},
   "source": [
    "In this lab, we practiced definining custom `__init__` methods that allowed us to initialize new instances with a set of predetermined attributes and default attributes."
   ]
  }
 ],
 "metadata": {
  "kernelspec": {
   "display_name": "Python 3",
   "language": "python",
   "name": "python3"
  },
  "language_info": {
   "codemirror_mode": {
    "name": "ipython",
    "version": 3
   },
   "file_extension": ".py",
   "mimetype": "text/x-python",
   "name": "python",
   "nbconvert_exporter": "python",
   "pygments_lexer": "ipython3",
   "version": "3.6.6"
  }
 },
 "nbformat": 4,
 "nbformat_minor": 2
}
